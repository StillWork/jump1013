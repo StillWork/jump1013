{
 "cells": [
  {
   "cell_type": "markdown",
   "metadata": {},
   "source": [
    "# 기초 통계\n",
    "- 통계 유형\n",
    "- 랜덤 넘버\n",
    "- 정규 분포\n",
    "- 가설 검정 (t-검정)\n",
    "- 독립성 검정 (chi 제곱 검정)\n",
    "- 통계분석과 머신러닝의 차이"
   ]
  },
  {
   "cell_type": "markdown",
   "metadata": {},
   "source": [
    "## 통계 유형\n",
    "- 기술(descriptive) 통계\n",
    " - 데이터의 평균, 중위값, 표준편차, 확률 분포 등으로 데이터의 특징을 설명한다. \n",
    " - 두 개 이상 변수에 대해서는 상관관계 등을 보고 관련성을 파악한다.\n",
    "- 추정(estimation)\n",
    " - 샘플(표본) 데이터를 보고 모집단(전체 데이터)의 특성 (평균, 표준편차 등)을 추정하는 것\n",
    " - 평균, 표준편차 등 특정 수치 값을 추정하는 점추정과, 신뢰구간을 추청하는 구간 추정이 있다\n",
    "- 가설 검정 (testing hypothesis)\n",
    " - 샘플 데이터를 보고, 주장하고자 하는 대립가설(alternative hypothesis)이 맞는지를 검정(testing)하는 것\n",
    " - 대립가설이 맞지 않다는 영(null) 가설이 얼마나 확률적으로 발생 가능한지를 보고 발생확률이 매우 낮으면 영가설이 기각하고 대립가설을 채택한다\n",
    " - 검정은 수학적인 증명(proof)은 아니며 의사결정을 위한 근거를 제시하는 것이다."
   ]
  },
  {
   "cell_type": "markdown",
   "metadata": {},
   "source": [
    "<img src=\"https://raw.githubusercontent.com/data-labs/image/main/%E1%84%89%E1%85%B3%E1%84%8F%E1%85%B3%E1%84%85%E1%85%B5%E1%86%AB%E1%84%89%E1%85%A3%E1%86%BA%202021-01-03%20%E1%84%8B%E1%85%A9%E1%84%92%E1%85%AE%201.48.19.png?raw=1\" width=250 align='left'>"
   ]
  },
  {
   "cell_type": "markdown",
   "metadata": {},
   "source": [
    "# 랜덤 넘버\n",
    "- 데이터 분석에는 랜덤 넘버를 자주 사용한다\n",
    "- 랜덤 넘버를 사용하는 이유는 불확실한 모든 가능한 경우를 실험적으로 커버할 수 있기 때문이다"
   ]
  },
  {
   "cell_type": "markdown",
   "metadata": {},
   "source": [
    "## import"
   ]
  },
  {
   "cell_type": "code",
   "execution_count": 418,
   "metadata": {},
   "outputs": [],
   "source": [
    "import pandas as pd\n",
    "import numpy as np\n",
    "import matplotlib.pyplot as plt\n",
    "%matplotlib inline\n",
    "%config InlineBackend.figure_format = 'retina'"
   ]
  },
  {
   "cell_type": "markdown",
   "metadata": {},
   "source": [
    "## rand()"
   ]
  },
  {
   "cell_type": "code",
   "execution_count": 419,
   "metadata": {
    "colab": {
     "base_uri": "https://localhost:8080/",
     "height": 50
    },
    "colab_type": "code",
    "executionInfo": {
     "elapsed": 907,
     "status": "ok",
     "timestamp": 1572792039983,
     "user": {
      "displayName": "김화종",
      "photoUrl": "https://lh3.googleusercontent.com/a-/AAuE7mCOtXjyLykQ_8l9Pq2rL3r5y110ynjRS1eb1EzpcQ=s64",
      "userId": "17353049580175403985"
     },
     "user_tz": -540
    },
    "id": "xpHvGofzZ-0B",
    "outputId": "b9ab00a4-c9fd-491e-c073-f4a4f316a9fb"
   },
   "outputs": [
    {
     "data": {
      "text/plain": [
       "array([0.80750187, 0.18102392, 0.95109422, 0.36853509, 0.79442637,\n",
       "       0.40248097, 0.42068174, 0.27307292, 0.68056639, 0.00703618,\n",
       "       0.51059904, 0.14473952, 0.10697665, 0.4431411 , 0.15026004,\n",
       "       0.54619389, 0.68800765, 0.63080313, 0.85384372, 0.47940064])"
      ]
     },
     "execution_count": 419,
     "metadata": {},
     "output_type": "execute_result"
    }
   ],
   "source": [
    "# 0~1 사이의 랜덤 넘버 얻기 (rand 함수 사용)\n",
    "# 아래는 N개의 랜덤 넘버를 만들고 이를 1차원 어레이 (벡터)로 얻는다\n",
    "N = 20\n",
    "x = np.random.rand(N)\n",
    "x"
   ]
  },
  {
   "cell_type": "code",
   "execution_count": 420,
   "metadata": {
    "colab": {
     "base_uri": "https://localhost:8080/",
     "height": 50
    },
    "colab_type": "code",
    "executionInfo": {
     "elapsed": 723,
     "status": "ok",
     "timestamp": 1572792046741,
     "user": {
      "displayName": "김화종",
      "photoUrl": "https://lh3.googleusercontent.com/a-/AAuE7mCOtXjyLykQ_8l9Pq2rL3r5y110ynjRS1eb1EzpcQ=s64",
      "userId": "17353049580175403985"
     },
     "user_tz": -540
    },
    "id": "Te8gDPzuaU9d",
    "outputId": "cd57059e-02ec-491f-b10f-a5a80891cf75"
   },
   "outputs": [
    {
     "data": {
      "text/plain": [
       "array([False,  True, False,  True, False,  True,  True,  True, False,\n",
       "        True, False,  True,  True,  True,  True, False, False, False,\n",
       "       False,  True])"
      ]
     },
     "execution_count": 420,
     "metadata": {},
     "output_type": "execute_result"
    }
   ],
   "source": [
    "x < 0.5"
   ]
  },
  {
   "cell_type": "code",
   "execution_count": 421,
   "metadata": {},
   "outputs": [
    {
     "data": {
      "text/plain": [
       "11"
      ]
     },
     "execution_count": 421,
     "metadata": {},
     "output_type": "execute_result"
    }
   ],
   "source": [
    "# True 갯수 \n",
    "(x < 0.5).sum()"
   ]
  },
  {
   "cell_type": "code",
   "execution_count": 422,
   "metadata": {},
   "outputs": [
    {
     "data": {
      "text/plain": [
       "0.55"
      ]
     },
     "execution_count": 422,
     "metadata": {},
     "output_type": "execute_result"
    }
   ],
   "source": [
    "# 평균 구하기\n",
    "(x < 0.5).mean()"
   ]
  },
  {
   "cell_type": "markdown",
   "metadata": {},
   "source": [
    "## 랜덤 넘버를 이용한 파이 구하기\n",
    "- $\\pi$ 구하기\n",
    "- 컴퓨터가 생성하는 랜덤 넘버가 0~1 사이에서 균등하게, 랜덤하게 발생하는 성질을 이용\n",
    "- 랜덤 넘버를 2개씩 발생시켜 2차원 좌표값을 얻고, 이 점의 위치가 원 내부에 들어가는 확률로부터 파이를 구한다\n",
    " - 반지름이 1인 원의 면적은 $\\pi$ 이다\n",
    " - 개념은 아래 그림 참조"
   ]
  },
  {
   "cell_type": "code",
   "execution_count": 423,
   "metadata": {},
   "outputs": [
    {
     "data": {
      "text/plain": [
       "(0.0, 1.0)"
      ]
     },
     "execution_count": 423,
     "metadata": {},
     "output_type": "execute_result"
    },
    {
     "data": {
      "image/png": "[encoded data removed]",
      "text/plain": [
       "<Figure size 288x288 with 1 Axes>"
      ]
     },
     "metadata": {
      "image/png": {
       "height": 252,
       "width": 268
      },
      "needs_background": "light"
     },
     "output_type": "display_data"
    }
   ],
   "source": [
    "plt.figure(figsize=(4,4)) \n",
    "xs=np.linspace(0,1, 300) \n",
    "plt.plot(xs, (1-xs**2)**0.5, c='r')\n",
    "plt.text(0.3, 0.4, \"Area=pi/4\", fontsize=20)\n",
    "N = 200\n",
    "x = np.random.rand(N)\n",
    "y = np.random.rand(N) \n",
    "plt.scatter(x,y,s=3) \n",
    "plt.xlim(0,1)\n",
    "plt.ylim(0,1)"
   ]
  },
  {
   "cell_type": "code",
   "execution_count": 424,
   "metadata": {
    "colab": {},
    "colab_type": "code",
    "id": "4wcqPV_UKaqK",
    "outputId": "0dc453ba-e7ae-442a-bb13-856b632f147f"
   },
   "outputs": [
    {
     "data": {
      "text/plain": [
       "3.14692"
      ]
     },
     "execution_count": 424,
     "metadata": {},
     "output_type": "execute_result"
    }
   ],
   "source": [
    "### 랜덤 넘버로 얻는 좌표가 원 내부에 들어간 경우와 사각형 내의 경우의 비율로부터 파이를 구한다\n",
    "# 특정 공간에 랜덤하게 점이 찍힐 확률은 면적 크기에 비례한다는 가정을 사용\n",
    "N = 100000\n",
    "x = np.random.rand(N)\n",
    "y = np.random.rand(N) \n",
    "pi = ((x**2 + y**2) < 1).mean()*4 \n",
    "pi"
   ]
  },
  {
   "cell_type": "markdown",
   "metadata": {},
   "source": [
    "## (연습) 실제 파이 값에 근접하기 위해서 몇개이 랜덤 넘버가 필요한가?\n",
    "- 시뮬레이션으로 구한 파이값과 컴퓨터가 제공하는 파이 값의 비율을 구하시오\n",
    "- 실제 파이 값: np.pi"
   ]
  },
  {
   "cell_type": "code",
   "execution_count": 425,
   "metadata": {},
   "outputs": [
    {
     "name": "stdout",
     "output_type": "stream",
     "text": [
      "100 개:  2.84 0.9040000767619655\n",
      "1000 개:  3.212 1.0224113544223357\n",
      "10000 개:  3.1328 0.9972012114365795\n",
      "100000 개:  3.14648 1.0015556906795737\n",
      "1000000 개:  3.142216 1.000198417324886\n"
     ]
    }
   ],
   "source": [
    "# (풀이)\n",
    "\n"
   ]
  },
  {
   "cell_type": "markdown",
   "metadata": {
    "colab_type": "text",
    "id": "ZH7ZX31buZwK"
   },
   "source": [
    "# 정규 분포\n",
    "- 종(bell) 모양의 확률 분포\n",
    "- 자연에서 여러 번 누적된 샘플의 확률 분포는 정규(normal) 분포를 따른다는 특징이 있다\n",
    "- 예: 주사위를 동시에 여러 개 던진 경우 합의 분포는 정규분포를 따른다\n",
    "- 키, 몸무게 등 자연적으로 누적되는 값은 정규분포를 따르는 것이 많다"
   ]
  },
  {
   "cell_type": "code",
   "execution_count": 426,
   "metadata": {
    "colab": {},
    "colab_type": "code",
    "id": "q8OGJ9zUKaqb",
    "outputId": "1f60b0ed-3315-42c6-bad0-065ca8b7e2bc"
   },
   "outputs": [
    {
     "data": {
      "image/png": "[encoded data removed]",
      "text/plain": [
       "<Figure size 432x288 with 1 Axes>"
      ]
     },
     "metadata": {
      "image/png": {
       "height": 248,
       "width": 381
      },
      "needs_background": "light"
     },
     "output_type": "display_data"
    }
   ],
   "source": [
    "# 주사위 하나를 던질 때 나오는 값의 확률 분포: 균일 (uniform) 분포\n",
    "N = 10000\n",
    "x = np.random.randint(1,7, N) \n",
    "plt.hist(x, bins = 6, width=0.5)\n",
    "plt.show()"
   ]
  },
  {
   "cell_type": "markdown",
   "metadata": {},
   "source": [
    "## 누적 샘플의 확률 분포\n",
    "- 주사위를 동시에 여러 개 던져서 나오는 값의 합의 분포"
   ]
  },
  {
   "cell_type": "code",
   "execution_count": 427,
   "metadata": {
    "colab": {},
    "colab_type": "code",
    "id": "qFtW_bxwKaqj",
    "outputId": "039944ce-5226-4b0e-de40-3b3d775a3758",
    "scrolled": true
   },
   "outputs": [],
   "source": [
    "n_multiple = 2 # 주사위를 동시에 던져 합산할 주사위 수\n",
    "\n",
    "# 총 N번 시행한 경우 빈도수를 그리는 함수 정의\n",
    "def show_dices(n_multiple, N=10000):\n",
    "    sum = 0\n",
    "    for i in range(n_multiple):\n",
    "        x = np.random.randint(1,7,N) \n",
    "        sum = sum + x\n",
    "    plt.hist(sum, bins = n_multiple*5+1, width=0.7) \n",
    "    # 주사위를 1, 2, 3개 던질 때 나오는 숫자 경우의 수는 6, 11, 16, 21, ... (5*n+1)\n",
    "    plt.show()"
   ]
  },
  {
   "cell_type": "code",
   "execution_count": 428,
   "metadata": {},
   "outputs": [
    {
     "data": {
      "image/png": "[encoded data removed]",
      "text/plain": [
       "<Figure size 432x288 with 1 Axes>"
      ]
     },
     "metadata": {
      "image/png": {
       "height": 248,
       "width": 381
      },
      "needs_background": "light"
     },
     "output_type": "display_data"
    }
   ],
   "source": [
    "# 주사위를 2개 던질 때의 분포\n",
    "show_dices(2)"
   ]
  },
  {
   "cell_type": "markdown",
   "metadata": {},
   "source": [
    "### 주사위 두 개 합의 확률 분포\n",
    "- 컨볼류션으로 구할 수 있다 (한 확률 분포는 고정하고 다른 분포 함수를 슬라이딩하면서 겹치는 면적을 구한다)\n",
    "- 상수(uniform, 0차원) 함수의 적분은 1차 함수가 된다\n",
    "\n",
    "<img src=\"https://raw.githubusercontent.com/data-labs/image/main/%E1%84%89%E1%85%B3%E1%84%8F%E1%85%B3%E1%84%85%E1%85%B5%E1%86%AB%E1%84%89%E1%85%A3%E1%86%BA%202021-01-03%20%E1%84%8B%E1%85%A9%E1%84%8C%E1%85%A5%E1%86%AB%2011.59.15.png?raw=1\" width=500 align='left'>"
   ]
  },
  {
   "cell_type": "code",
   "execution_count": 429,
   "metadata": {
    "scrolled": true
   },
   "outputs": [
    {
     "data": {
      "image/png": "[encoded data removed]",
      "text/plain": [
       "<Figure size 432x288 with 1 Axes>"
      ]
     },
     "metadata": {
      "image/png": {
       "height": 249,
       "width": 392
      },
      "needs_background": "light"
     },
     "output_type": "display_data"
    }
   ],
   "source": [
    "# 2개씩 던지는 것을 2회 더하는 경우, 즉 4개 주사위 값의 합의 분포\n",
    "show_dices(4)"
   ]
  },
  {
   "cell_type": "markdown",
   "metadata": {},
   "source": [
    "### 주사위 4 개의 합의 확률 분포\n",
    "- 1차 함수의 적분은 2차 함수가 된다\n",
    "\n",
    "<img src=\"https://raw.githubusercontent.com/data-labs/image/main/%E1%84%89%E1%85%B3%E1%84%8F%E1%85%B3%E1%84%85%E1%85%B5%E1%86%AB%E1%84%89%E1%85%A3%E1%86%BA%202021-01-03%20%E1%84%8B%E1%85%A9%E1%84%8C%E1%85%A5%E1%86%AB%2011.59.01.png?raw=1\" width=500 align='left'>"
   ]
  },
  {
   "cell_type": "code",
   "execution_count": 430,
   "metadata": {
    "scrolled": true
   },
   "outputs": [
    {
     "data": {
      "image/png": "[encoded data removed]",
      "text/plain": [
       "<Figure size 432x288 with 1 Axes>"
      ]
     },
     "metadata": {
      "image/png": {
       "height": 248,
       "width": 375
      },
      "needs_background": "light"
     },
     "output_type": "display_data"
    }
   ],
   "source": [
    "# 4개씩 던지는 것을 2번 더하는 경우, 즉 8개 주사위 값의 합의 분포\n",
    "show_dices(8)"
   ]
  },
  {
   "cell_type": "code",
   "execution_count": 431,
   "metadata": {
    "scrolled": true
   },
   "outputs": [
    {
     "data": {
      "image/png": "[encoded data removed]",
      "text/plain": [
       "<Figure size 432x288 with 1 Axes>"
      ]
     },
     "metadata": {
      "image/png": {
       "height": 248,
       "width": 375
      },
      "needs_background": "light"
     },
     "output_type": "display_data"
    }
   ],
   "source": [
    "# 주사위 32개의 합의 확률 분포\n",
    "show_dices(32)"
   ]
  },
  {
   "cell_type": "markdown",
   "metadata": {},
   "source": [
    "### 이를 계속하면 정규 분포에 도달한다\n",
    "- 확률 분포 2개의 컨볼류션 결과가 더 이상 바뀌지 않는 확률 분포를 정규분포라고 한다\n",
    "- Central Limit Theorm\n",
    "\n",
    "<img src=\"https://raw.githubusercontent.com/data-labs/image/main/%E1%84%89%E1%85%B3%E1%84%8F%E1%85%B3%E1%84%85%E1%85%B5%E1%86%AB%E1%84%89%E1%85%A3%E1%86%BA%202021-01-03%20%E1%84%8B%E1%85%A9%E1%84%92%E1%85%AE%2012.10.23.png?raw=1\" width=500 align='left'>"
   ]
  },
  {
   "cell_type": "markdown",
   "metadata": {},
   "source": [
    "- 정규분포 식 \n",
    "\n",
    "<img src=\"https://raw.githubusercontent.com/data-labs/image/main/%E1%84%89%E1%85%B3%E1%84%8F%E1%85%B3%E1%84%85%E1%85%B5%E1%86%AB%E1%84%89%E1%85%A3%E1%86%BA%202021-01-03%20%E1%84%8B%E1%85%A9%E1%84%92%E1%85%AE%2012.13.50.png?raw=1\" width=160 align='left'>"
   ]
  },
  {
   "cell_type": "markdown",
   "metadata": {},
   "source": [
    "- 정규분포를 갖는 랜덤 넘버 발생, randn"
   ]
  },
  {
   "cell_type": "code",
   "execution_count": 432,
   "metadata": {
    "scrolled": true
   },
   "outputs": [
    {
     "data": {
      "image/png": "[encoded data removed]",
      "text/plain": [
       "<Figure size 432x288 with 1 Axes>"
      ]
     },
     "metadata": {
      "image/png": {
       "height": 248,
       "width": 375
      },
      "needs_background": "light"
     },
     "output_type": "display_data"
    }
   ],
   "source": [
    "# 평균이 0, 표준편차가 1인 정규분포 랜덤 넘버 얻기 (randn)\n",
    "x = np.random.randn(10000)\n",
    "plt.hist(x, bins=50, width=0.1)\n",
    "plt.show()"
   ]
  },
  {
   "cell_type": "markdown",
   "metadata": {},
   "source": [
    "- 정규분포의 특징\n",
    " - 자연계에 가장 많이 발생\n",
    " - 어떤 샘플의 확률분포가 정규분포를 따른다면 이의 평균, 분산, 신뢰구간 등의 예측이 수월해진다\n",
    " - 추정 통계 분석에 유용"
   ]
  },
  {
   "cell_type": "markdown",
   "metadata": {},
   "source": [
    "# 검정 통계\n",
    "- 어떤 가설이 맞는지를 검정하는 것 (가설 검정: testing hypothesis)\n",
    " - 데이터를 보고, 주장하고 싶은 대립가설이 맞는지를 검정(testing)하는 것\n",
    " - 대립가설이 맞지 않다는 영(null) 가설이 얼마나 확률적으로 발생 가능한지를 보고 발생확률이 매우 낮으면 영가설이 기각하고 대립가설을 채택한다"
   ]
  },
  {
   "cell_type": "markdown",
   "metadata": {},
   "source": [
    "## 독립비교 t 검정\n",
    "- independence t_test\n",
    "- 두 개의 샘플이 동일한 모집단에서 추출된 것인지를 검정하는 것 (정규 분포를 가정하고 두 표본의 평균의 차이를 검정)\n",
    "- ttest_ind 함수를 사용하여 p-value 가 0.05 이하이면 우연히 발생했다고 보기 어렵다고 판단\n",
    " - 즉, 영가설을 기각하고 대립가설을 채택한다\n",
    " \n",
    "### 정상 주사위와 비정상 주사위\n",
    "- 주사위 눈금이 6이 나오지 않고 1~5만 나오는 횟수가 몇 번 이상이면 일반 주사위 던지기가 아니라고 할 것인가?"
   ]
  },
  {
   "cell_type": "code",
   "execution_count": 433,
   "metadata": {},
   "outputs": [
    {
     "data": {
      "text/plain": [
       "array([2, 2, 4, 5, 1, 6, 1, 4, 3, 6, 5, 1, 3, 2, 3, 5, 6, 4])"
      ]
     },
     "execution_count": 433,
     "metadata": {},
     "output_type": "execute_result"
    }
   ],
   "source": [
    "# 정상적인 주사위 던지기의 발생 패턴 (18회 시행)\n",
    "np.random.randint(1,7,18)"
   ]
  },
  {
   "cell_type": "code",
   "execution_count": 434,
   "metadata": {},
   "outputs": [
    {
     "data": {
      "text/plain": [
       "array([1, 2, 3, 1, 2, 1, 1, 2, 2, 5, 2, 2, 2, 1, 4, 1, 1, 5])"
      ]
     },
     "execution_count": 434,
     "metadata": {},
     "output_type": "execute_result"
    }
   ],
   "source": [
    "# 비정상적인 주사위 던지기 (6일 발생하지 않는 주사위)\n",
    "np.random.randint(1,6,18)"
   ]
  },
  {
   "cell_type": "code",
   "execution_count": 435,
   "metadata": {
    "colab": {},
    "colab_type": "code",
    "id": "u4vswlV5wuMk"
   },
   "outputs": [
    {
     "data": {
      "text/plain": [
       "Ttest_indResult(statistic=0.5443794036025861, pvalue=0.5861925418784558)"
      ]
     },
     "execution_count": 435,
     "metadata": {},
     "output_type": "execute_result"
    }
   ],
   "source": [
    "# 정상적인 경우: 주사위를 10000번 던진 경우의 확률 분포\n",
    "# 검정할 경우: N번 던졌는데 6이 한번도 나오지 않은 경우\n",
    "from scipy import stats\n",
    "N=12\n",
    "stats.ttest_ind(np.random.randint(1,7,10000), \n",
    "                np.random.randint(1,6,N))"
   ]
  },
  {
   "cell_type": "code",
   "execution_count": 436,
   "metadata": {},
   "outputs": [
    {
     "data": {
      "text/plain": [
       "0.10432"
      ]
     },
     "execution_count": 436,
     "metadata": {},
     "output_type": "execute_result"
    }
   ],
   "source": [
    "# 6이 연속해서 나오지 않는 횟수를 바꾸어 본다\n",
    "N=60\n",
    "# p-value 보기\n",
    "stats.ttest_ind(np.random.randint(1,7,10000), \n",
    "                np.random.randint(1,6,N))[1].round(5)"
   ]
  },
  {
   "cell_type": "markdown",
   "metadata": {},
   "source": [
    "### 시뮬레이션 평균 구하기\n",
    "- 랜덤한 시뮬레이션의 평균치를 구하기 위해서 p-value 를 200회 구하여 평균을 취한다\n"
   ]
  },
  {
   "cell_type": "code",
   "execution_count": 437,
   "metadata": {},
   "outputs": [],
   "source": [
    "def ttest_dice_average(N):\n",
    "    sum = 0\n",
    "    n_simulation = 200\n",
    "    for i in range(n_simulation):\n",
    "        sum = sum + stats.ttest_ind(np.random.randint(1,7,10000), \n",
    "                np.random.randint(1,6,N))[1]\n",
    "    return (sum/n_simulation).round(4)"
   ]
  },
  {
   "cell_type": "code",
   "execution_count": 438,
   "metadata": {},
   "outputs": [
    {
     "data": {
      "text/plain": [
       "0.18"
      ]
     },
     "execution_count": 438,
     "metadata": {},
     "output_type": "execute_result"
    }
   ],
   "source": [
    "ttest_dice_average(30)"
   ]
  },
  {
   "cell_type": "markdown",
   "metadata": {},
   "source": [
    "### (연습) 주사위 던지기에서 p-value가 0.05 근처가 되는 N을 구하시오\n",
    "\n",
    "- 주사위를 몇 번(N) 연속으로 던져도 6이 한번도 나오지 않을 때의 p-value들을 구한다."
   ]
  },
  {
   "cell_type": "code",
   "execution_count": 549,
   "metadata": {},
   "outputs": [],
   "source": [
    "# (풀이)\n",
    "\n"
   ]
  },
  {
   "cell_type": "markdown",
   "metadata": {},
   "source": [
    "### 동전의 한쪽 면이 몇 번 연속 발생하면 특이한가\n",
    "- 일반적으로는 0, 1이 비슷하게 발생한다\n",
    "- 계속 0만 발생하는 횟수가 몇 번이면 정상이 아니라고 판단하는가? 즉, 대립 가설을 채택하는가?"
   ]
  },
  {
   "cell_type": "code",
   "execution_count": 440,
   "metadata": {},
   "outputs": [
    {
     "data": {
      "text/plain": [
       "0.00201"
      ]
     },
     "execution_count": 440,
     "metadata": {},
     "output_type": "execute_result"
    }
   ],
   "source": [
    "# 정상적인 0, 1 패턴 1000번과\n",
    "# N회 연속 0만 나오는 패턴이 같은 모집단의 샘플 추출이라고 볼 수 있는가?\n",
    "N=10\n",
    "stats.ttest_ind(np.random.randint(0,2,1000), \n",
    "                np.random.randint(0,1,N))[1].round(5)"
   ]
  },
  {
   "cell_type": "markdown",
   "metadata": {},
   "source": [
    "### (연습) 동전던지기에서 p-value가 0.05 근처가 되는 N을 구하시오\n",
    "- 동전을 던져 몇 번(N) 연속 앞면만 나올 때의 p-value들을 구한다."
   ]
  },
  {
   "cell_type": "code",
   "execution_count": 550,
   "metadata": {},
   "outputs": [],
   "source": [
    "# (풀이)\n",
    "\n"
   ]
  },
  {
   "cell_type": "markdown",
   "metadata": {},
   "source": [
    "### 키의 평균치가 다른지를 검정\n",
    "- 두 집단의 (키)의 샘플수, 평균치, 분산 수를 바꾸어 본다\n",
    "- 비교할 집단의 키의 평균치는 170으로 고정함"
   ]
  },
  {
   "cell_type": "code",
   "execution_count": 443,
   "metadata": {},
   "outputs": [],
   "source": [
    "def ttest_height(N,dev,mean):\n",
    "    return stats.ttest_ind(np.random.randn(N)*dev +170, \n",
    "                np.random.randn(N)*dev + mean)[1]"
   ]
  },
  {
   "cell_type": "code",
   "execution_count": 444,
   "metadata": {},
   "outputs": [
    {
     "data": {
      "text/plain": [
       "0.4140878377923295"
      ]
     },
     "execution_count": 444,
     "metadata": {},
     "output_type": "execute_result"
    }
   ],
   "source": [
    "# 돌릴 때마다 다른 값이 나온다\n",
    "ttest_height(30, 4, 170)"
   ]
  },
  {
   "cell_type": "code",
   "execution_count": 445,
   "metadata": {},
   "outputs": [],
   "source": [
    "# 랜덤한 시뮬레이션의 평균치를 구하기 위해서 p-value 를 200회 구하여 평균을 취한다\n",
    "def ttest_h_average(height, dev, n):\n",
    "    sum = 0\n",
    "    n_simulation = 200\n",
    "    for i in range(n_simulation):\n",
    "        sum = sum + stats.ttest_ind(np.random.randn(n)*dev +170, \n",
    "                np.random.randn(n)*dev + height)[1]\n",
    "    return (sum/n_simulation).round(4)"
   ]
  },
  {
   "cell_type": "code",
   "execution_count": 446,
   "metadata": {},
   "outputs": [
    {
     "data": {
      "text/plain": [
       "0.4751"
      ]
     },
     "execution_count": 446,
     "metadata": {},
     "output_type": "execute_result"
    }
   ],
   "source": [
    "ttest_h_average(170, 3, 30)"
   ]
  },
  {
   "cell_type": "code",
   "execution_count": 447,
   "metadata": {},
   "outputs": [
    {
     "data": {
      "text/plain": [
       "[(170, 3, 30, 0.5201),\n",
       " (170, 3, 300, 0.5121),\n",
       " (170, 6, 30, 0.5334),\n",
       " (170, 6, 300, 0.4692),\n",
       " (171, 3, 30, 0.2561),\n",
       " (171, 3, 300, 0.0034),\n",
       " (171, 6, 30, 0.4482),\n",
       " (171, 6, 300, 0.1419),\n",
       " (173, 3, 30, 0.0058),\n",
       " (173, 3, 300, 0.0),\n",
       " (173, 6, 30, 0.1513),\n",
       " (173, 6, 300, 0.0)]"
      ]
     },
     "execution_count": 447,
     "metadata": {},
     "output_type": "execute_result"
    }
   ],
   "source": [
    "result = []\n",
    "for height in [170, 171, 173]:\n",
    "    for dev in [3,6]:\n",
    "        for n in [30,300]:\n",
    "            p = ttest_h_average(height, dev, n)\n",
    "            result.append((height, dev, n, p))\n",
    "result"
   ]
  },
  {
   "cell_type": "code",
   "execution_count": 448,
   "metadata": {},
   "outputs": [
    {
     "data": {
      "text/html": [
       "<div>\n",
       "<style scoped>\n",
       "    .dataframe tbody tr th:only-of-type {\n",
       "        vertical-align: middle;\n",
       "    }\n",
       "\n",
       "    .dataframe tbody tr th {\n",
       "        vertical-align: top;\n",
       "    }\n",
       "\n",
       "    .dataframe thead th {\n",
       "        text-align: right;\n",
       "    }\n",
       "</style>\n",
       "<table border=\"1\" class=\"dataframe\">\n",
       "  <thead>\n",
       "    <tr style=\"text-align: right;\">\n",
       "      <th></th>\n",
       "      <th>height</th>\n",
       "      <th>dev</th>\n",
       "      <th>n</th>\n",
       "      <th>p</th>\n",
       "    </tr>\n",
       "  </thead>\n",
       "  <tbody>\n",
       "    <tr>\n",
       "      <th>0</th>\n",
       "      <td>170</td>\n",
       "      <td>3</td>\n",
       "      <td>30</td>\n",
       "      <td>0.5201</td>\n",
       "    </tr>\n",
       "    <tr>\n",
       "      <th>1</th>\n",
       "      <td>170</td>\n",
       "      <td>3</td>\n",
       "      <td>300</td>\n",
       "      <td>0.5121</td>\n",
       "    </tr>\n",
       "    <tr>\n",
       "      <th>2</th>\n",
       "      <td>170</td>\n",
       "      <td>6</td>\n",
       "      <td>30</td>\n",
       "      <td>0.5334</td>\n",
       "    </tr>\n",
       "    <tr>\n",
       "      <th>3</th>\n",
       "      <td>170</td>\n",
       "      <td>6</td>\n",
       "      <td>300</td>\n",
       "      <td>0.4692</td>\n",
       "    </tr>\n",
       "    <tr>\n",
       "      <th>4</th>\n",
       "      <td>171</td>\n",
       "      <td>3</td>\n",
       "      <td>30</td>\n",
       "      <td>0.2561</td>\n",
       "    </tr>\n",
       "    <tr>\n",
       "      <th>5</th>\n",
       "      <td>171</td>\n",
       "      <td>3</td>\n",
       "      <td>300</td>\n",
       "      <td>0.0034</td>\n",
       "    </tr>\n",
       "    <tr>\n",
       "      <th>6</th>\n",
       "      <td>171</td>\n",
       "      <td>6</td>\n",
       "      <td>30</td>\n",
       "      <td>0.4482</td>\n",
       "    </tr>\n",
       "    <tr>\n",
       "      <th>7</th>\n",
       "      <td>171</td>\n",
       "      <td>6</td>\n",
       "      <td>300</td>\n",
       "      <td>0.1419</td>\n",
       "    </tr>\n",
       "    <tr>\n",
       "      <th>8</th>\n",
       "      <td>173</td>\n",
       "      <td>3</td>\n",
       "      <td>30</td>\n",
       "      <td>0.0058</td>\n",
       "    </tr>\n",
       "    <tr>\n",
       "      <th>9</th>\n",
       "      <td>173</td>\n",
       "      <td>3</td>\n",
       "      <td>300</td>\n",
       "      <td>0.0000</td>\n",
       "    </tr>\n",
       "    <tr>\n",
       "      <th>10</th>\n",
       "      <td>173</td>\n",
       "      <td>6</td>\n",
       "      <td>30</td>\n",
       "      <td>0.1513</td>\n",
       "    </tr>\n",
       "    <tr>\n",
       "      <th>11</th>\n",
       "      <td>173</td>\n",
       "      <td>6</td>\n",
       "      <td>300</td>\n",
       "      <td>0.0000</td>\n",
       "    </tr>\n",
       "  </tbody>\n",
       "</table>\n",
       "</div>"
      ],
      "text/plain": [
       "    height  dev    n       p\n",
       "0      170    3   30  0.5201\n",
       "1      170    3  300  0.5121\n",
       "2      170    6   30  0.5334\n",
       "3      170    6  300  0.4692\n",
       "4      171    3   30  0.2561\n",
       "5      171    3  300  0.0034\n",
       "6      171    6   30  0.4482\n",
       "7      171    6  300  0.1419\n",
       "8      173    3   30  0.0058\n",
       "9      173    3  300  0.0000\n",
       "10     173    6   30  0.1513\n",
       "11     173    6  300  0.0000"
      ]
     },
     "execution_count": 448,
     "metadata": {},
     "output_type": "execute_result"
    }
   ],
   "source": [
    "pd.DataFrame(result, columns=['height', 'dev','n' ,'p'])"
   ]
  },
  {
   "cell_type": "code",
   "execution_count": 449,
   "metadata": {},
   "outputs": [
    {
     "data": {
      "text/plain": [
       "0.0"
      ]
     },
     "execution_count": 449,
     "metadata": {},
     "output_type": "execute_result"
    }
   ],
   "source": [
    "ttest_h_average(600, 4, 171)"
   ]
  },
  {
   "cell_type": "markdown",
   "metadata": {},
   "source": [
    "### (연습) 키평균이 170.5 인 그룹을 구분하기 위해서 몇개의 검증 샘플이 필요한가? (표준 편차는 3)\n",
    "- 기준은 170인 샘플로 하고, 검증용 샘플의 수를 바꾸면서 p-value를 관찰한다.\n"
   ]
  },
  {
   "cell_type": "code",
   "execution_count": 551,
   "metadata": {},
   "outputs": [],
   "source": [
    "# (풀이)\n",
    "\n"
   ]
  },
  {
   "cell_type": "markdown",
   "metadata": {},
   "source": [
    "## (참고) 카이제곱 검정\n",
    "- 독립성 검정 (test for independence)\n",
    "- 두 개의 사건에서 얻은 샘플이 독립적인지(무관한지) 아니면 관계가 있는지를 검정하는 것\n",
    " - 예, 마케팅에서 A/B 테스트가 의미있는 결과를 냈는지를 검정\n",
    "- chi2_contingency 함수를 사용하여 p-value가 0.05 이하이면 우연히 발생했다고 보기 어렵다고 본다. 즉, A/B 테스트가 효과가 있었다는 대립 가설을 채택한다"
   ]
  },
  {
   "cell_type": "markdown",
   "metadata": {},
   "source": [
    "### A/B 테스트의 차이가 없는 경우\n",
    "- 상품 구매 결과가 채널 A/B에 관계 없이 랜덤한 경우\n",
    "- 구매:1, 비구매:0"
   ]
  },
  {
   "cell_type": "code",
   "execution_count": 537,
   "metadata": {},
   "outputs": [
    {
     "data": {
      "text/html": [
       "<div>\n",
       "<style scoped>\n",
       "    .dataframe tbody tr th:only-of-type {\n",
       "        vertical-align: middle;\n",
       "    }\n",
       "\n",
       "    .dataframe tbody tr th {\n",
       "        vertical-align: top;\n",
       "    }\n",
       "\n",
       "    .dataframe thead th {\n",
       "        text-align: right;\n",
       "    }\n",
       "</style>\n",
       "<table border=\"1\" class=\"dataframe\">\n",
       "  <thead>\n",
       "    <tr style=\"text-align: right;\">\n",
       "      <th></th>\n",
       "      <th>채널</th>\n",
       "      <th>구매</th>\n",
       "    </tr>\n",
       "  </thead>\n",
       "  <tbody>\n",
       "    <tr>\n",
       "      <th>0</th>\n",
       "      <td>A</td>\n",
       "      <td>0</td>\n",
       "    </tr>\n",
       "    <tr>\n",
       "      <th>1</th>\n",
       "      <td>A</td>\n",
       "      <td>0</td>\n",
       "    </tr>\n",
       "    <tr>\n",
       "      <th>2</th>\n",
       "      <td>A</td>\n",
       "      <td>1</td>\n",
       "    </tr>\n",
       "    <tr>\n",
       "      <th>3</th>\n",
       "      <td>A</td>\n",
       "      <td>0</td>\n",
       "    </tr>\n",
       "    <tr>\n",
       "      <th>4</th>\n",
       "      <td>A</td>\n",
       "      <td>1</td>\n",
       "    </tr>\n",
       "    <tr>\n",
       "      <th>...</th>\n",
       "      <td>...</td>\n",
       "      <td>...</td>\n",
       "    </tr>\n",
       "    <tr>\n",
       "      <th>1995</th>\n",
       "      <td>B</td>\n",
       "      <td>1</td>\n",
       "    </tr>\n",
       "    <tr>\n",
       "      <th>1996</th>\n",
       "      <td>B</td>\n",
       "      <td>0</td>\n",
       "    </tr>\n",
       "    <tr>\n",
       "      <th>1997</th>\n",
       "      <td>B</td>\n",
       "      <td>1</td>\n",
       "    </tr>\n",
       "    <tr>\n",
       "      <th>1998</th>\n",
       "      <td>B</td>\n",
       "      <td>0</td>\n",
       "    </tr>\n",
       "    <tr>\n",
       "      <th>1999</th>\n",
       "      <td>B</td>\n",
       "      <td>0</td>\n",
       "    </tr>\n",
       "  </tbody>\n",
       "</table>\n",
       "<p>2000 rows × 2 columns</p>\n",
       "</div>"
      ],
      "text/plain": [
       "     채널  구매\n",
       "0     A   0\n",
       "1     A   0\n",
       "2     A   1\n",
       "3     A   0\n",
       "4     A   1\n",
       "...  ..  ..\n",
       "1995  B   1\n",
       "1996  B   0\n",
       "1997  B   1\n",
       "1998  B   0\n",
       "1999  B   0\n",
       "\n",
       "[2000 rows x 2 columns]"
      ]
     },
     "execution_count": 537,
     "metadata": {},
     "output_type": "execute_result"
    }
   ],
   "source": [
    "# 2000회의 A/B 테스트 결과 (각각 1000회 시행)\n",
    "N = 1000\n",
    "ab = [\"A\"]*N + [\"B\"]*N\n",
    "\n",
    "# 구매 결과를 랜덤하게 생성\n",
    "purchase = np.random.choice([0,1], N*2)\n",
    "df_ab = pd.DataFrame({\"채널\":ab, \"구매\":purchase})\n",
    "df_ab"
   ]
  },
  {
   "cell_type": "code",
   "execution_count": 538,
   "metadata": {},
   "outputs": [
    {
     "data": {
      "text/html": [
       "<div>\n",
       "<style scoped>\n",
       "    .dataframe tbody tr th:only-of-type {\n",
       "        vertical-align: middle;\n",
       "    }\n",
       "\n",
       "    .dataframe tbody tr th {\n",
       "        vertical-align: top;\n",
       "    }\n",
       "\n",
       "    .dataframe thead th {\n",
       "        text-align: right;\n",
       "    }\n",
       "</style>\n",
       "<table border=\"1\" class=\"dataframe\">\n",
       "  <thead>\n",
       "    <tr style=\"text-align: right;\">\n",
       "      <th>구매</th>\n",
       "      <th>0</th>\n",
       "      <th>1</th>\n",
       "    </tr>\n",
       "    <tr>\n",
       "      <th>채널</th>\n",
       "      <th></th>\n",
       "      <th></th>\n",
       "    </tr>\n",
       "  </thead>\n",
       "  <tbody>\n",
       "    <tr>\n",
       "      <th>A</th>\n",
       "      <td>480</td>\n",
       "      <td>520</td>\n",
       "    </tr>\n",
       "    <tr>\n",
       "      <th>B</th>\n",
       "      <td>512</td>\n",
       "      <td>488</td>\n",
       "    </tr>\n",
       "  </tbody>\n",
       "</table>\n",
       "</div>"
      ],
      "text/plain": [
       "구매    0    1\n",
       "채널          \n",
       "A   480  520\n",
       "B   512  488"
      ]
     },
     "execution_count": 538,
     "metadata": {},
     "output_type": "execute_result"
    }
   ],
   "source": [
    "# 교차 집계 테이블\n",
    "df = pd.crosstab(df_ab['채널'], df_ab['구매'])\n",
    "df"
   ]
  },
  {
   "cell_type": "code",
   "execution_count": 539,
   "metadata": {},
   "outputs": [
    {
     "data": {
      "text/plain": [
       "0.15239"
      ]
     },
     "execution_count": 539,
     "metadata": {},
     "output_type": "execute_result"
    }
   ],
   "source": [
    "# 카이제곱 검정\n",
    "# p-value가 0.05 이상이면, A/B 테스트는 차이가 없다는 영가설을 채택한다\n",
    "_,p,_,_ = stats.chi2_contingency(df, correction=False)\n",
    "p.round(5)"
   ]
  },
  {
   "cell_type": "markdown",
   "metadata": {},
   "source": [
    "### A/B 테스트의 차이가 있는 경우\n",
    "- 즉, 상품 구매율이 채널 A/B에 따라 다른 경우"
   ]
  },
  {
   "cell_type": "code",
   "execution_count": 546,
   "metadata": {},
   "outputs": [
    {
     "data": {
      "text/html": [
       "<div>\n",
       "<style scoped>\n",
       "    .dataframe tbody tr th:only-of-type {\n",
       "        vertical-align: middle;\n",
       "    }\n",
       "\n",
       "    .dataframe tbody tr th {\n",
       "        vertical-align: top;\n",
       "    }\n",
       "\n",
       "    .dataframe thead th {\n",
       "        text-align: right;\n",
       "    }\n",
       "</style>\n",
       "<table border=\"1\" class=\"dataframe\">\n",
       "  <thead>\n",
       "    <tr style=\"text-align: right;\">\n",
       "      <th></th>\n",
       "      <th>채널</th>\n",
       "      <th>구매</th>\n",
       "    </tr>\n",
       "  </thead>\n",
       "  <tbody>\n",
       "    <tr>\n",
       "      <th>0</th>\n",
       "      <td>A</td>\n",
       "      <td>0</td>\n",
       "    </tr>\n",
       "    <tr>\n",
       "      <th>1</th>\n",
       "      <td>A</td>\n",
       "      <td>0</td>\n",
       "    </tr>\n",
       "    <tr>\n",
       "      <th>2</th>\n",
       "      <td>A</td>\n",
       "      <td>1</td>\n",
       "    </tr>\n",
       "    <tr>\n",
       "      <th>3</th>\n",
       "      <td>A</td>\n",
       "      <td>0</td>\n",
       "    </tr>\n",
       "    <tr>\n",
       "      <th>4</th>\n",
       "      <td>A</td>\n",
       "      <td>0</td>\n",
       "    </tr>\n",
       "    <tr>\n",
       "      <th>...</th>\n",
       "      <td>...</td>\n",
       "      <td>...</td>\n",
       "    </tr>\n",
       "    <tr>\n",
       "      <th>1995</th>\n",
       "      <td>B</td>\n",
       "      <td>1</td>\n",
       "    </tr>\n",
       "    <tr>\n",
       "      <th>1996</th>\n",
       "      <td>B</td>\n",
       "      <td>1</td>\n",
       "    </tr>\n",
       "    <tr>\n",
       "      <th>1997</th>\n",
       "      <td>B</td>\n",
       "      <td>0</td>\n",
       "    </tr>\n",
       "    <tr>\n",
       "      <th>1998</th>\n",
       "      <td>B</td>\n",
       "      <td>1</td>\n",
       "    </tr>\n",
       "    <tr>\n",
       "      <th>1999</th>\n",
       "      <td>B</td>\n",
       "      <td>0</td>\n",
       "    </tr>\n",
       "  </tbody>\n",
       "</table>\n",
       "<p>2000 rows × 2 columns</p>\n",
       "</div>"
      ],
      "text/plain": [
       "     채널  구매\n",
       "0     A   0\n",
       "1     A   0\n",
       "2     A   1\n",
       "3     A   0\n",
       "4     A   0\n",
       "...  ..  ..\n",
       "1995  B   1\n",
       "1996  B   1\n",
       "1997  B   0\n",
       "1998  B   1\n",
       "1999  B   0\n",
       "\n",
       "[2000 rows x 2 columns]"
      ]
     },
     "execution_count": 546,
     "metadata": {},
     "output_type": "execute_result"
    }
   ],
   "source": [
    "# A 채널로는 평균 48%가 구매했고, B 채널로는 평균 45% 구매했다고 가정\n",
    "\n",
    "p1 = np.random.choice([0,1], N, p=[0.52, 0.48])\n",
    "p2 = np.random.choice([0,1], N, p=[0.55, 0.45])\n",
    "\n",
    "purchase = np.concatenate((p1,p2))\n",
    "df_ab = pd.DataFrame({\"채널\":ab, \"구매\":purchase})\n",
    "df_ab"
   ]
  },
  {
   "cell_type": "code",
   "execution_count": 547,
   "metadata": {},
   "outputs": [
    {
     "data": {
      "text/html": [
       "<div>\n",
       "<style scoped>\n",
       "    .dataframe tbody tr th:only-of-type {\n",
       "        vertical-align: middle;\n",
       "    }\n",
       "\n",
       "    .dataframe tbody tr th {\n",
       "        vertical-align: top;\n",
       "    }\n",
       "\n",
       "    .dataframe thead th {\n",
       "        text-align: right;\n",
       "    }\n",
       "</style>\n",
       "<table border=\"1\" class=\"dataframe\">\n",
       "  <thead>\n",
       "    <tr style=\"text-align: right;\">\n",
       "      <th>구매</th>\n",
       "      <th>0</th>\n",
       "      <th>1</th>\n",
       "    </tr>\n",
       "    <tr>\n",
       "      <th>채널</th>\n",
       "      <th></th>\n",
       "      <th></th>\n",
       "    </tr>\n",
       "  </thead>\n",
       "  <tbody>\n",
       "    <tr>\n",
       "      <th>A</th>\n",
       "      <td>510</td>\n",
       "      <td>490</td>\n",
       "    </tr>\n",
       "    <tr>\n",
       "      <th>B</th>\n",
       "      <td>575</td>\n",
       "      <td>425</td>\n",
       "    </tr>\n",
       "  </tbody>\n",
       "</table>\n",
       "</div>"
      ],
      "text/plain": [
       "구매    0    1\n",
       "채널          \n",
       "A   510  490\n",
       "B   575  425"
      ]
     },
     "execution_count": 547,
     "metadata": {},
     "output_type": "execute_result"
    }
   ],
   "source": [
    "df = pd.crosstab(df_ab['채널'], df_ab['구매'])\n",
    "df"
   ]
  },
  {
   "cell_type": "code",
   "execution_count": 548,
   "metadata": {},
   "outputs": [
    {
     "data": {
      "text/plain": [
       "0.0035"
      ]
     },
     "execution_count": 548,
     "metadata": {},
     "output_type": "execute_result"
    }
   ],
   "source": [
    "_,p,_,_ = stats.chi2_contingency(df, correction=False)\n",
    "p.round(4)"
   ]
  },
  {
   "cell_type": "markdown",
   "metadata": {},
   "source": [
    "- p-value가 0.05 이하이면 두 채널 A/B는 유의미한 차이가 있다고 본다"
   ]
  },
  {
   "cell_type": "markdown",
   "metadata": {},
   "source": [
    "### (연습) 채널 A가 5:5의 구매패턴일 때, 채널 B의 구매비율이 얼마이면 유의미한 차이가 있나?\n",
    "- 샘플수는 총 2000개로 고정한다\n",
    "- 채널 B의 구매 비율을 바꾸어보면서 p-value를 구해본다"
   ]
  },
  {
   "cell_type": "code",
   "execution_count": 552,
   "metadata": {},
   "outputs": [],
   "source": [
    "# (풀이)\n",
    "\n"
   ]
  },
  {
   "cell_type": "markdown",
   "metadata": {},
   "source": [
    "# 통계분석과 머신러닝\n",
    "\n",
    "- 통계의 목적은 데이터로부터 어떤 의미 있는 정보와 통찰력(insight)를 얻는 것이며 (확률, 평균치, 분산 등), 수학적인 근거를 제시하는 것을 목표로 한다(오차범위, 신뢰도 등)\n",
    "- 통계학에서는 이론적인 근거를 설명하는 것을 중요시 한다. 가설, 확률, 신뢰구간, 오차범위 등을 다룬다\n",
    "\n",
    "- 머신러닝은 이론적인 근거 제시보다는 데이터로부터 예측, 분류 등을 수행하는 모델(소프트웨어)을 만드는 것이며, 예측 성능의 향상을 목표로 한다(정확도, 리콜 등).\n",
    "\n",
    "- 분석할 데이터의 량이 적으면 통계적 분석에 의존하여 '설명'을 해야 하나, 데이터가 충분히 많으면 머신러닝 모델을 만들어 실전에서 동작하는 모델을 만드는 것이 더 유용하다"
   ]
  },
  {
   "cell_type": "markdown",
   "metadata": {},
   "source": [
    "# 정답"
   ]
  },
  {
   "cell_type": "markdown",
   "metadata": {},
   "source": [
    "## (연습) 실제 파이 값에 근접하기 위해서 몇개이 랜덤 넘버가 필요한가?\n",
    "- 시뮬레이션으로 구한 파이값과 컴퓨터가 제공하는 파이 값의 비율을 구하시오\n",
    "- 실제 파이 값: np.pi"
   ]
  },
  {
   "cell_type": "code",
   "execution_count": 425,
   "metadata": {},
   "outputs": [
    {
     "name": "stdout",
     "output_type": "stream",
     "text": [
      "100 개:  2.84 0.9040000767619655\n",
      "1000 개:  3.212 1.0224113544223357\n",
      "10000 개:  3.1328 0.9972012114365795\n",
      "100000 개:  3.14648 1.0015556906795737\n",
      "1000000 개:  3.142216 1.000198417324886\n"
     ]
    }
   ],
   "source": [
    "for N in [100,1000,10000,100000,1000000]:\n",
    "    x = np.random.rand(N)\n",
    "    y = np.random.rand(N) \n",
    "    p = ((x**2 + y**2) < 1).mean()*4.0\n",
    "    print(N,'개: ', p, p/np.pi)\n"
   ]
  },
  {
   "cell_type": "markdown",
   "metadata": {},
   "source": [
    "## (연습) 주사위 던지기에서 p-value가 0.05 근처가 되는 N을 구하시오\n",
    "\n",
    "- 주사위를 몇 번(N) 연속으로 던져도 6이 한번도 나오지 않을 때의 p-value들을 구한다."
   ]
  },
  {
   "cell_type": "code",
   "execution_count": null,
   "metadata": {},
   "outputs": [],
   "source": [
    "def ttest_dice_average(N):\n",
    "    sum = 0\n",
    "    n_simulation = 200\n",
    "    for i in range(n_simulation):\n",
    "        sum = sum + stats.ttest_ind(np.random.randint(1,7,10000), \n",
    "                np.random.randint(1,6,N))[1]\n",
    "    return (sum/n_simulation).round(4)"
   ]
  },
  {
   "cell_type": "code",
   "execution_count": 439,
   "metadata": {},
   "outputs": [
    {
     "name": "stdout",
     "output_type": "stream",
     "text": [
      "10 0.3798\n",
      "20 0.2752\n",
      "30 0.1944\n",
      "40 0.1474\n",
      "50 0.1066\n",
      "60 0.0718\n",
      "70 0.069\n",
      "80 0.0367\n",
      "90 0.0316\n",
      "100 0.0296\n"
     ]
    }
   ],
   "source": [
    "for N in range(10, 101, 10):\n",
    "    print(N, ttest_dice_average(N))"
   ]
  },
  {
   "cell_type": "markdown",
   "metadata": {},
   "source": [
    "## (연습) 동전던지기에서 p-value가 0.05 근처가 되는 N을 구하시오\n",
    "- 동전을 던져 몇 번(N) 연속 앞면만 나올 때의 p-value들을 구한다."
   ]
  },
  {
   "cell_type": "code",
   "execution_count": 441,
   "metadata": {},
   "outputs": [],
   "source": [
    "def ttest_coin_average(N):\n",
    "    sum = 0\n",
    "    n_simulation = 200\n",
    "    for i in range(n_simulation):\n",
    "        sum = sum + stats.ttest_ind(np.random.randint(0,2,1000), \n",
    "                np.random.randint(0,1,N))[1]\n",
    "    return (sum/n_simulation).round(4)"
   ]
  },
  {
   "cell_type": "code",
   "execution_count": 442,
   "metadata": {},
   "outputs": [
    {
     "name": "stdout",
     "output_type": "stream",
     "text": [
      "2 0.1584\n",
      "3 0.0845\n",
      "4 0.0454\n",
      "5 0.0258\n",
      "6 0.0146\n",
      "7 0.0082\n",
      "8 0.0048\n",
      "9 0.0029\n",
      "10 0.0017\n",
      "11 0.001\n",
      "12 0.0006\n",
      "13 0.0003\n",
      "14 0.0002\n",
      "15 0.0001\n",
      "16 0.0001\n",
      "17 0.0\n",
      "18 0.0\n",
      "19 0.0\n"
     ]
    }
   ],
   "source": [
    "for N in range(2,20):\n",
    "    print(N, ttest_coin_average(N))"
   ]
  },
  {
   "cell_type": "markdown",
   "metadata": {},
   "source": [
    "## (연습) 키평균이 170.5 인 그룹을 구분하기 위해서 몇개의 검증 샘플이 필요한가? (표준 편차는 3)\n",
    "- 기준은 170인 샘플로 하고, 검증용 샘플의 수를 바꾸면서 p-value를 관찰한다.\n"
   ]
  },
  {
   "cell_type": "code",
   "execution_count": null,
   "metadata": {},
   "outputs": [],
   "source": [
    "def ttest_h_average(height, dev, n):\n",
    "    sum = 0\n",
    "    n_simulation = 200\n",
    "    for i in range(n_simulation):\n",
    "        sum = sum + stats.ttest_ind(np.random.randn(n)*dev +170, \n",
    "                np.random.randn(n)*dev + height)[1]\n",
    "    return (sum/n_simulation).round(4)"
   ]
  },
  {
   "cell_type": "code",
   "execution_count": 452,
   "metadata": {},
   "outputs": [
    {
     "name": "stdout",
     "output_type": "stream",
     "text": [
      "100 0.3111\n",
      "200 0.2172\n",
      "300 0.1599\n",
      "400 0.1032\n",
      "500 0.0581\n",
      "600 0.0525\n",
      "700 0.032\n",
      "800 0.0229\n",
      "900 0.0169\n"
     ]
    }
   ],
   "source": [
    "dev = 3\n",
    "height = 170.5\n",
    "for N in range(100,1000,100):\n",
    "    print(N, ttest_h_average(height, dev, N))"
   ]
  },
  {
   "cell_type": "markdown",
   "metadata": {},
   "source": [
    "## (연습) 채널 A가 5:5의 구매패턴일 때, 채널 B의 구매비율이 얼마이면 유의미한 차이가 있나?\n",
    "- 샘플수는 총 2000개로 고정한다\n",
    "- 채널 B의 구매 비율을 바꾸어보면서 p-value를 구해본다"
   ]
  },
  {
   "cell_type": "code",
   "execution_count": 536,
   "metadata": {},
   "outputs": [],
   "source": [
    "N = 1000\n",
    "ab = [\"A\"]*N + [\"B\"]*N\n",
    "p1 = np.random.choice([0,1], N, p=[0.5, 0.5])\n",
    "\n",
    "result = []\n",
    "\n",
    "for ratio in np.arange(0.3 ,0.7, 0.02):\n",
    "    p2 = np.random.choice([0,1], N, p=[1-ratio, ratio])\n",
    "    purchase = np.concatenate((p1,p2))\n",
    "    df_ab = pd.DataFrame({\"채널\":ab, \"구매\":purchase})\n",
    "    df = pd.crosstab(df_ab['채널'], df_ab['구매'])\n",
    "    _,p,_,_ = stats.chi2_contingency(df, correction=False)\n",
    "    result.append((ratio, p.round(4)))"
   ]
  },
  {
   "cell_type": "code",
   "execution_count": 535,
   "metadata": {},
   "outputs": [
    {
     "data": {
      "text/plain": [
       "Text(0, 0.5, 'p-value')"
      ]
     },
     "execution_count": 535,
     "metadata": {},
     "output_type": "execute_result"
    },
    {
     "data": {
      "image/png": "[encoded data removed]",
      "text/plain": [
       "<Figure size 432x288 with 1 Axes>"
      ]
     },
     "metadata": {
      "image/png": {
       "height": 261,
       "width": 385
      },
      "needs_background": "light"
     },
     "output_type": "display_data"
    }
   ],
   "source": [
    "res = np.array(result)\n",
    "plt.plot(res[:,0], res[:,1])\n",
    "plt.xlabel('Channel-B ratio')\n",
    "plt.ylabel('p-value')"
   ]
  },
  {
   "cell_type": "code",
   "execution_count": null,
   "metadata": {},
   "outputs": [],
   "source": []
  }
 ],
 "metadata": {
  "colab": {
   "collapsed_sections": [],
   "name": "kb_1_파이선기초_191104.ipynb",
   "provenance": []
  },
  "kernelspec": {
   "display_name": "Python 3",
   "language": "python",
   "name": "python3"
  },
  "language_info": {
   "codemirror_mode": {
    "name": "ipython",
    "version": 3
   },
   "file_extension": ".py",
   "mimetype": "text/x-python",
   "name": "python",
   "nbconvert_exporter": "python",
   "pygments_lexer": "ipython3",
   "version": "3.8.8"
  },
  "toc": {
   "base_numbering": 1,
   "nav_menu": {},
   "number_sections": false,
   "sideBar": true,
   "skip_h1_title": false,
   "title_cell": "Table of Contents",
   "title_sidebar": "Contents",
   "toc_cell": false,
   "toc_position": {
    "height": "calc(100% - 180px)",
    "left": "10px",
    "top": "150px",
    "width": "307.825px"
   },
   "toc_section_display": true,
   "toc_window_display": true
  }
 },
 "nbformat": 4,
 "nbformat_minor": 1
}

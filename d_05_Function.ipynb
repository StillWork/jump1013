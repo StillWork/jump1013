{
 "cells": [
  {
   "cell_type": "markdown",
   "metadata": {},
   "source": [
    "# 함수 사용\n",
    "\n",
    "- 데이터에 적용되는 다양한 함수 사용법을 다룬다\n",
    "- def, lambda, map, apply\n",
    "- (참고) \\*args, \\**kwargs, "
   ]
  },
  {
   "cell_type": "markdown",
   "metadata": {},
   "source": [
    "## import"
   ]
  },
  {
   "cell_type": "code",
   "execution_count": 1,
   "metadata": {},
   "outputs": [],
   "source": [
    "import pandas as pd\n",
    "import numpy as np"
   ]
  },
  {
   "cell_type": "markdown",
   "metadata": {},
   "source": [
    "# def \n",
    "- 반복 사용되는 작업은 함수로 만들어 두면 편리하게 다시 사용할 수 있다\n",
    "- 함수를 정의할 때 def를 사용한다\n",
    "- 함수를 호출할 때 인자를 넘겨줄 수 있다\n",
    "- 함수 실행 결과로 어떤 값을 받으려면 return 문을 사용한다"
   ]
  },
  {
   "cell_type": "markdown",
   "metadata": {},
   "source": [
    "## 리턴 값이 없는 함수"
   ]
  },
  {
   "cell_type": "code",
   "execution_count": 2,
   "metadata": {},
   "outputs": [],
   "source": [
    "# 주어진 작업만 수행하는 함수\n",
    "def my_func(): \n",
    "    print(\"작업을 시작했습니다...\")\n",
    "    print(\"작업 종료!\")"
   ]
  },
  {
   "cell_type": "code",
   "execution_count": 3,
   "metadata": {},
   "outputs": [
    {
     "name": "stdout",
     "output_type": "stream",
     "text": [
      "작업을 시작했습니다...\n",
      "작업 종료!\n"
     ]
    }
   ],
   "source": [
    "# 함수 호출 \n",
    "my_func()"
   ]
  },
  {
   "cell_type": "markdown",
   "metadata": {},
   "source": [
    "## 리턴 값 정의\n",
    "- return을 사용하며, 임의의 형태의 묶음 데이터도 리턴할 수 있다"
   ]
  },
  {
   "cell_type": "code",
   "execution_count": 4,
   "metadata": {},
   "outputs": [
    {
     "data": {
      "text/plain": [
       "array([2, 6])"
      ]
     },
     "execution_count": 4,
     "metadata": {},
     "output_type": "execute_result"
    }
   ],
   "source": [
    "# 임의의 주사위 값 2개 리턴 (정수 어레이 리턴)\n",
    "def my_func(): \n",
    "    return np.random.randint(1,7,2)\n",
    "\n",
    "y = my_func()\n",
    "y"
   ]
  },
  {
   "cell_type": "markdown",
   "metadata": {},
   "source": [
    "### (연습) 랜덤 넘버 10개를 리턴하는 함수를 만드시오\n",
    "- (0~1) 사이의 값을 갖는 랜덤 넘버 생성"
   ]
  },
  {
   "cell_type": "code",
   "execution_count": 61,
   "metadata": {
    "scrolled": true
   },
   "outputs": [],
   "source": [
    "# (풀이)\n",
    "\n"
   ]
  },
  {
   "cell_type": "markdown",
   "metadata": {},
   "source": [
    "## 인자"
   ]
  },
  {
   "cell_type": "code",
   "execution_count": 5,
   "metadata": {},
   "outputs": [
    {
     "data": {
      "text/plain": [
       "123"
      ]
     },
     "execution_count": 5,
     "metadata": {},
     "output_type": "execute_result"
    }
   ],
   "source": [
    "# 인자가 있는 함수 정의\n",
    "def my_func(a,b,c): \n",
    "    return a*100 + b*10 + c\n",
    "\n",
    "y = my_func(1, 2, 3)\n",
    "y"
   ]
  },
  {
   "cell_type": "markdown",
   "metadata": {},
   "source": [
    "### 인자의 디폴트 값"
   ]
  },
  {
   "cell_type": "code",
   "execution_count": 6,
   "metadata": {},
   "outputs": [],
   "source": [
    "# 인자의 디폴트 값을 지정하는 함수 정의\n",
    "def my_func(a=1,b=2,c=3): \n",
    "    return a*100 + b*10 + c"
   ]
  },
  {
   "cell_type": "code",
   "execution_count": 7,
   "metadata": {},
   "outputs": [
    {
     "data": {
      "text/plain": [
       "123"
      ]
     },
     "execution_count": 7,
     "metadata": {},
     "output_type": "execute_result"
    }
   ],
   "source": [
    "# 다양한 함수 호출이 가능\n",
    "my_func()"
   ]
  },
  {
   "cell_type": "code",
   "execution_count": 8,
   "metadata": {},
   "outputs": [
    {
     "data": {
      "text/plain": [
       "321"
      ]
     },
     "execution_count": 8,
     "metadata": {},
     "output_type": "execute_result"
    }
   ],
   "source": [
    "my_func(b=2, c=1, a=3)"
   ]
  },
  {
   "cell_type": "code",
   "execution_count": 9,
   "metadata": {},
   "outputs": [
    {
     "data": {
      "text/plain": [
       "523"
      ]
     },
     "execution_count": 9,
     "metadata": {},
     "output_type": "execute_result"
    }
   ],
   "source": [
    "# 첫번째 인자만 지정\n",
    "my_func(5)"
   ]
  },
  {
   "cell_type": "code",
   "execution_count": 10,
   "metadata": {},
   "outputs": [
    {
     "data": {
      "text/plain": [
       "783"
      ]
     },
     "execution_count": 10,
     "metadata": {},
     "output_type": "execute_result"
    }
   ],
   "source": [
    "# 두개의 인자만 지정\n",
    "my_func(7,8)"
   ]
  },
  {
   "cell_type": "code",
   "execution_count": 11,
   "metadata": {},
   "outputs": [
    {
     "data": {
      "text/plain": [
       "129"
      ]
     },
     "execution_count": 11,
     "metadata": {},
     "output_type": "execute_result"
    }
   ],
   "source": [
    "# 일부 인자만 지정\n",
    "my_func(c=9)"
   ]
  },
  {
   "cell_type": "markdown",
   "metadata": {},
   "source": [
    "### 디폴트 값이 일부만 지정된 경우\n",
    "- 주의: 디폴트 값이 없는 인자는 앞에 배치해야 한다\n",
    "- 디폴트 값이 없는 인자는 필수 입력 인자임"
   ]
  },
  {
   "cell_type": "code",
   "execution_count": 12,
   "metadata": {},
   "outputs": [
    {
     "data": {
      "text/plain": [
       "257"
      ]
     },
     "execution_count": 12,
     "metadata": {},
     "output_type": "execute_result"
    }
   ],
   "source": [
    "def my_func(a,b=5,c=7): \n",
    "    return a*100 + b*10 + c\n",
    "\n",
    "my_func(a=2)"
   ]
  },
  {
   "cell_type": "code",
   "execution_count": 13,
   "metadata": {},
   "outputs": [
    {
     "data": {
      "text/plain": [
       "257"
      ]
     },
     "execution_count": 13,
     "metadata": {},
     "output_type": "execute_result"
    }
   ],
   "source": [
    "my_func(2)"
   ]
  },
  {
   "cell_type": "code",
   "execution_count": 14,
   "metadata": {},
   "outputs": [
    {
     "data": {
      "text/plain": [
       "267"
      ]
     },
     "execution_count": 14,
     "metadata": {},
     "output_type": "execute_result"
    }
   ],
   "source": [
    "my_func(2,6)"
   ]
  },
  {
   "cell_type": "markdown",
   "metadata": {},
   "source": [
    "### (연습) 같은 길이의 배열을 두개 입력하면 각 항목별 자승의 합을 구하는 함수를 만드시오\n",
    "- 5개 길이의 어레이를 두개 만들어 입력으로 사용한다"
   ]
  },
  {
   "cell_type": "code",
   "execution_count": 62,
   "metadata": {},
   "outputs": [],
   "source": [
    "# (풀이)\n",
    "\n"
   ]
  },
  {
   "cell_type": "markdown",
   "metadata": {},
   "source": [
    "### 함수 내부변수\n",
    "- 함수 정의 내부에서 사용한 변수는 임시변수로서 외부에서는 접근이 안된다\n",
    "- 아래에서 p나 q는 함수 정의 외부에서 읽을 수 없다"
   ]
  },
  {
   "cell_type": "code",
   "execution_count": 45,
   "metadata": {},
   "outputs": [
    {
     "data": {
      "text/plain": [
       "19"
      ]
     },
     "execution_count": 45,
     "metadata": {},
     "output_type": "execute_result"
    }
   ],
   "source": [
    "# 입력변수 자승의 합과, 곱의 합을 리턴하는 함수 (a^2 + b^2 + ab)\n",
    "def my_func(a,b): \n",
    "    p = a*a + b*b\n",
    "    q = a*b\n",
    "    return p + q\n",
    "\n",
    "my_func(2, 3)\n",
    "\n",
    "# print(p) # 오류가 발생한다!"
   ]
  },
  {
   "cell_type": "markdown",
   "metadata": {},
   "source": [
    "### (연습) 함수 내부 변수를 함수 밖에서 접근하는 방법은? 위에서 p,q를 접근하는 방법은?"
   ]
  },
  {
   "cell_type": "code",
   "execution_count": 63,
   "metadata": {},
   "outputs": [],
   "source": [
    "# (풀이)\n",
    "\n"
   ]
  },
  {
   "cell_type": "markdown",
   "metadata": {},
   "source": [
    "# 편리한 함수 사용법\n",
    "\n",
    "- lambda, map, apply"
   ]
  },
  {
   "cell_type": "markdown",
   "metadata": {},
   "source": [
    "## lambda, 익명 함수 정의\n",
    "- def, return을 사용하지 않고 간단히 함수를 정의할 수 있다"
   ]
  },
  {
   "cell_type": "code",
   "execution_count": 16,
   "metadata": {},
   "outputs": [
    {
     "data": {
      "text/plain": [
       "40"
      ]
     },
     "execution_count": 16,
     "metadata": {},
     "output_type": "execute_result"
    }
   ],
   "source": [
    "# 일반적인 함수 정의 방법\n",
    "def my_f(x):\n",
    "    return x*10\n",
    "\n",
    "my_f(4)"
   ]
  },
  {
   "cell_type": "code",
   "execution_count": 17,
   "metadata": {},
   "outputs": [
    {
     "data": {
      "text/plain": [
       "40"
      ]
     },
     "execution_count": 17,
     "metadata": {},
     "output_type": "execute_result"
    }
   ],
   "source": [
    "# def, return을 사용하지 않는 방법\n",
    "my_f = lambda x: x*10\n",
    "\n",
    "my_f(4)"
   ]
  },
  {
   "cell_type": "markdown",
   "metadata": {},
   "source": [
    "## map, 리스트에 함수 적용하기\n",
    "\n",
    "- map의 첫번째 인자에는 함수를, 두번째 인자에는 데이터를 넣는다\n",
    "- 리스트 외에도 튜플, 배열에 대해서도 사용할 수 있다\n",
    "- 별도로 함수를 정의하지 않고 lambda를 사용하여 함수 내용만 정의할 수 있다"
   ]
  },
  {
   "cell_type": "code",
   "execution_count": 18,
   "metadata": {},
   "outputs": [
    {
     "data": {
      "text/plain": [
       "[10, 20, 30, 40]"
      ]
     },
     "execution_count": 18,
     "metadata": {},
     "output_type": "execute_result"
    }
   ],
   "source": [
    "# 이미 정의된 함수명을 사용하는 경우\n",
    "x = [1,2,3,4]\n",
    "list(map(my_f, x))"
   ]
  },
  {
   "cell_type": "code",
   "execution_count": 19,
   "metadata": {},
   "outputs": [
    {
     "data": {
      "text/plain": [
       "[10, 20, 30, 40]"
      ]
     },
     "execution_count": 19,
     "metadata": {},
     "output_type": "execute_result"
    }
   ],
   "source": [
    "# 튜플도 사용할 수 있다\n",
    "x = (1,2,3,4)\n",
    "list(map(my_f, x))"
   ]
  },
  {
   "cell_type": "code",
   "execution_count": 20,
   "metadata": {},
   "outputs": [
    {
     "data": {
      "text/plain": [
       "[10, 20, 30, 40]"
      ]
     },
     "execution_count": 20,
     "metadata": {},
     "output_type": "execute_result"
    }
   ],
   "source": [
    "# 배열도 사용할 수 있다\n",
    "y = np.array(x)\n",
    "list(map(my_f, y))"
   ]
  },
  {
   "cell_type": "code",
   "execution_count": 21,
   "metadata": {},
   "outputs": [
    {
     "data": {
      "text/plain": [
       "[10, 20, 30, 40]"
      ]
     },
     "execution_count": 21,
     "metadata": {},
     "output_type": "execute_result"
    }
   ],
   "source": [
    "# lambda를 사용하는 방법 (익명 함수)\n",
    "list(map(lambda i: i*10, x))"
   ]
  },
  {
   "cell_type": "code",
   "execution_count": 22,
   "metadata": {},
   "outputs": [
    {
     "data": {
      "text/plain": [
       "[10, 20, 30, 40]"
      ]
     },
     "execution_count": 22,
     "metadata": {},
     "output_type": "execute_result"
    }
   ],
   "source": [
    "# (참고) 위와 같은 리스트 생성은 다른 방법으로도 가능하다\n",
    "[i*10 for i in x]"
   ]
  },
  {
   "cell_type": "markdown",
   "metadata": {},
   "source": [
    "### (연습) 숫자 리스트를 받으면 문자열 리스트로 바꾸는 함수를 만드시오\n",
    "- (힌트) 숫자를 문자열로 바꾸려면 str() 함수를 사용한다"
   ]
  },
  {
   "cell_type": "code",
   "execution_count": 64,
   "metadata": {},
   "outputs": [],
   "source": [
    "# (풀이)\n",
    "\n"
   ]
  },
  {
   "cell_type": "markdown",
   "metadata": {},
   "source": [
    "## apply, 시리즈나 데이터프레임에 함수 적용\n",
    "\n",
    "- apply는 리스트, 튜플, 배열에는 사용할 수 없다"
   ]
  },
  {
   "cell_type": "code",
   "execution_count": 23,
   "metadata": {},
   "outputs": [
    {
     "data": {
      "text/html": [
       "<div>\n",
       "<style scoped>\n",
       "    .dataframe tbody tr th:only-of-type {\n",
       "        vertical-align: middle;\n",
       "    }\n",
       "\n",
       "    .dataframe tbody tr th {\n",
       "        vertical-align: top;\n",
       "    }\n",
       "\n",
       "    .dataframe thead th {\n",
       "        text-align: right;\n",
       "    }\n",
       "</style>\n",
       "<table border=\"1\" class=\"dataframe\">\n",
       "  <thead>\n",
       "    <tr style=\"text-align: right;\">\n",
       "      <th></th>\n",
       "      <th>population</th>\n",
       "      <th>temp</th>\n",
       "    </tr>\n",
       "    <tr>\n",
       "      <th>city</th>\n",
       "      <th></th>\n",
       "      <th></th>\n",
       "    </tr>\n",
       "  </thead>\n",
       "  <tbody>\n",
       "    <tr>\n",
       "      <th>서울</th>\n",
       "      <td>990</td>\n",
       "      <td>13</td>\n",
       "    </tr>\n",
       "    <tr>\n",
       "      <th>부산</th>\n",
       "      <td>350</td>\n",
       "      <td>16</td>\n",
       "    </tr>\n",
       "    <tr>\n",
       "      <th>대구</th>\n",
       "      <td>250</td>\n",
       "      <td>14</td>\n",
       "    </tr>\n",
       "    <tr>\n",
       "      <th>대전</th>\n",
       "      <td>154</td>\n",
       "      <td>13</td>\n",
       "    </tr>\n",
       "    <tr>\n",
       "      <th>광주</th>\n",
       "      <td>150</td>\n",
       "      <td>15</td>\n",
       "    </tr>\n",
       "  </tbody>\n",
       "</table>\n",
       "</div>"
      ],
      "text/plain": [
       "      population  temp\n",
       "city                  \n",
       "서울           990    13\n",
       "부산           350    16\n",
       "대구           250    14\n",
       "대전           154    13\n",
       "광주           150    15"
      ]
     },
     "execution_count": 23,
     "metadata": {},
     "output_type": "execute_result"
    }
   ],
   "source": [
    "x = {'city': ['서울', '부산', '대구', '대전', '광주'],\n",
    "        'population': [990, 350, 250, 154, 150],\n",
    "        'temp': [13, 16, 14, 13, 15]}\n",
    "\n",
    "data = pd.DataFrame(x).set_index('city')\n",
    "data"
   ]
  },
  {
   "cell_type": "code",
   "execution_count": 24,
   "metadata": {},
   "outputs": [
    {
     "data": {
      "text/plain": [
       "population    990\n",
       "temp           16\n",
       "dtype: int64"
      ]
     },
     "execution_count": 24,
     "metadata": {},
     "output_type": "execute_result"
    }
   ],
   "source": [
    "# 컬럼(시리즈)에 대해서 최대값을 찾기\n",
    "data[[\"population\",\"temp\"]].apply(lambda x: x.max())"
   ]
  },
  {
   "cell_type": "code",
   "execution_count": 25,
   "metadata": {},
   "outputs": [
    {
     "data": {
      "text/plain": [
       "population    378.8\n",
       "temp           14.2\n",
       "dtype: float64"
      ]
     },
     "execution_count": 25,
     "metadata": {},
     "output_type": "execute_result"
    }
   ],
   "source": [
    "# 컬럼(시리즈)의 평균값 구하기\n",
    "data[[\"population\",\"temp\"]].apply(lambda x: x.mean())"
   ]
  },
  {
   "cell_type": "markdown",
   "metadata": {},
   "source": [
    "- 데이터프레임 전체에 함수 적용하기"
   ]
  },
  {
   "cell_type": "code",
   "execution_count": 26,
   "metadata": {},
   "outputs": [
    {
     "data": {
      "text/plain": [
       "population    378.8\n",
       "temp           14.2\n",
       "dtype: float64"
      ]
     },
     "execution_count": 26,
     "metadata": {},
     "output_type": "execute_result"
    }
   ],
   "source": [
    "data.apply(lambda x: x.mean())"
   ]
  },
  {
   "cell_type": "markdown",
   "metadata": {},
   "source": [
    "### (연습) 모든 도시의 자동차수, 기온의 최대값과 최소값의 차이를 구하시오"
   ]
  },
  {
   "cell_type": "code",
   "execution_count": 65,
   "metadata": {
    "scrolled": true
   },
   "outputs": [],
   "source": [
    "# (풀이)\n",
    "\n"
   ]
  },
  {
   "cell_type": "markdown",
   "metadata": {},
   "source": [
    "# 참고 \\*args, \\**kwargs\n",
    "\n",
    "## 임의의 길이의 리스트 인자 사용\n",
    "- 인자로 임의의 길이의 리스트나 튜플을 사용할 수 있다\n",
    "- 이를 명시하기 위해서 리스트형 인자명 앞에 * 를 붙인다"
   ]
  },
  {
   "cell_type": "code",
   "execution_count": 29,
   "metadata": {},
   "outputs": [],
   "source": [
    "def my_f(*args):\n",
    "   for i in args: \n",
    "        print(i)"
   ]
  },
  {
   "cell_type": "code",
   "execution_count": 30,
   "metadata": {},
   "outputs": [
    {
     "name": "stdout",
     "output_type": "stream",
     "text": [
      "1\n",
      "2\n",
      "3\n"
     ]
    }
   ],
   "source": [
    "x = (1,2,3)\n",
    "my_f(*x)"
   ]
  },
  {
   "cell_type": "code",
   "execution_count": 31,
   "metadata": {},
   "outputs": [
    {
     "name": "stdout",
     "output_type": "stream",
     "text": [
      "1\n",
      "2\n",
      "3\n",
      "4\n",
      "5\n"
     ]
    }
   ],
   "source": [
    "x = [1,2,3,4,5]\n",
    "my_f(*x)"
   ]
  },
  {
   "cell_type": "markdown",
   "metadata": {},
   "source": [
    "## 딕셔너리를 사용해 인자의 이름도 지정\n",
    "- 임의의 갯수의 인자 이름을 넘겨줄 수 있다\n",
    "- 이를 위해 딕셔너리를 사용한다 (키에 인자명, 값에 인자 값을 지정)\n",
    "- 이를 명시하기 위해서 인자명 앞에 \\**를 붙인다"
   ]
  },
  {
   "cell_type": "code",
   "execution_count": 32,
   "metadata": {},
   "outputs": [],
   "source": [
    "def my_f(**kwargs):\n",
    "    print(\"인자 갯수:\", len(kwargs))\n",
    "    print(\"인자 이름:\", list(kwargs.keys()))\n",
    "    print(\"인자 값:\", list(kwargs.values()))\n",
    "    # 인자를 사용한 작업 수행"
   ]
  },
  {
   "cell_type": "code",
   "execution_count": 33,
   "metadata": {},
   "outputs": [
    {
     "name": "stdout",
     "output_type": "stream",
     "text": [
      "인자 갯수: 3\n",
      "인자 이름: ['a', 'b', 'c']\n",
      "인자 값: [1, 2, 3]\n"
     ]
    }
   ],
   "source": [
    "dic = {'a':1, 'b':2, 'c':3}\n",
    "my_f(**dic)"
   ]
  },
  {
   "cell_type": "markdown",
   "metadata": {},
   "source": [
    "# 정답"
   ]
  },
  {
   "cell_type": "markdown",
   "metadata": {},
   "source": [
    "### (연습) 랜덤 넘버 10개를 리턴하는 함수를 만드시오\n",
    "- (0~1) 사이의 값을 갖는 랜덤 넘버 생성"
   ]
  },
  {
   "cell_type": "code",
   "execution_count": 36,
   "metadata": {
    "scrolled": true
   },
   "outputs": [
    {
     "data": {
      "text/plain": [
       "array([0.27735973, 0.18621162, 0.91329298, 0.89713478, 0.63400016,\n",
       "       0.36762895, 0.70580835, 0.65833767, 0.68639758, 0.99806999])"
      ]
     },
     "execution_count": 36,
     "metadata": {},
     "output_type": "execute_result"
    }
   ],
   "source": [
    "def rand_n(): \n",
    "    return np.random.rand(10)\n",
    "rand_n()"
   ]
  },
  {
   "cell_type": "markdown",
   "metadata": {},
   "source": [
    "### (연습) 같은 길이의 배열을 두개 입력하면 각 항목별 자승의 합을 구하는 함수를 만드시오\n",
    "- 5개 길이의 어레이를 두개 만들어 입력으로 사용한다"
   ]
  },
  {
   "cell_type": "code",
   "execution_count": 41,
   "metadata": {},
   "outputs": [
    {
     "name": "stdout",
     "output_type": "stream",
     "text": [
      "입력:  [0 1 2 3 4] [10 11 12 13 14]\n"
     ]
    },
    {
     "data": {
      "text/plain": [
       "array([100, 122, 148, 178, 212])"
      ]
     },
     "execution_count": 41,
     "metadata": {},
     "output_type": "execute_result"
    }
   ],
   "source": [
    "def sum_2(a,b):\n",
    "    return a*a + b*b\n",
    "\n",
    "x1 = np.arange(5)\n",
    "x2 = np.arange(10, 15)\n",
    "print('입력: ',x1, x2)\n",
    "\n",
    "sum_2(x1, x2)"
   ]
  },
  {
   "cell_type": "markdown",
   "metadata": {},
   "source": [
    "### (연습) 함수 내부 변수를 함수 밖에서 접근하는 방법은? 위에서 p,q를 접근하는 방법은?"
   ]
  },
  {
   "cell_type": "code",
   "execution_count": 48,
   "metadata": {},
   "outputs": [
    {
     "data": {
      "text/plain": [
       "(13, 6, 19)"
      ]
     },
     "execution_count": 48,
     "metadata": {},
     "output_type": "execute_result"
    }
   ],
   "source": [
    "# 아래와 같이 return 문에 포함하면 된다\n",
    "def my_func(a,b): \n",
    "    p = a*a + b*b\n",
    "    q = a*b\n",
    "    return p, q, (p + q)\n",
    "\n",
    "p, q, pq_sum = my_func(2, 3)\n",
    "p, q, pq_sum"
   ]
  },
  {
   "cell_type": "markdown",
   "metadata": {},
   "source": [
    "### (연습) 숫자 리스트를 받으면 문자열 리스트로 바꾸는 함수를 만드시오\n",
    "- (힌트) 숫자를 문자열로 바꾸려면 str() 함수를 사용한다"
   ]
  },
  {
   "cell_type": "code",
   "execution_count": 57,
   "metadata": {},
   "outputs": [
    {
     "data": {
      "text/plain": [
       "['1', '2', '3', '4', '5']"
      ]
     },
     "execution_count": 57,
     "metadata": {},
     "output_type": "execute_result"
    }
   ],
   "source": [
    "list(map(lambda i: str(i), x))"
   ]
  },
  {
   "cell_type": "markdown",
   "metadata": {},
   "source": [
    "### (연습) 모든 도시의 자동차수, 기온의 최대값과 최소값의 차이를 구하시오"
   ]
  },
  {
   "cell_type": "code",
   "execution_count": 60,
   "metadata": {
    "scrolled": true
   },
   "outputs": [
    {
     "data": {
      "text/plain": [
       "population    840\n",
       "temp            3\n",
       "dtype: int64"
      ]
     },
     "execution_count": 60,
     "metadata": {},
     "output_type": "execute_result"
    }
   ],
   "source": [
    "data.apply(lambda x: x.max()-x.min())"
   ]
  }
 ],
 "metadata": {
  "kernelspec": {
   "display_name": "Python 3",
   "language": "python",
   "name": "python3"
  },
  "language_info": {
   "codemirror_mode": {
    "name": "ipython",
    "version": 3
   },
   "file_extension": ".py",
   "mimetype": "text/x-python",
   "name": "python",
   "nbconvert_exporter": "python",
   "pygments_lexer": "ipython3",
   "version": "3.8.8"
  },
  "toc": {
   "base_numbering": 1,
   "nav_menu": {},
   "number_sections": false,
   "sideBar": true,
   "skip_h1_title": false,
   "title_cell": "Table of Contents",
   "title_sidebar": "Contents",
   "toc_cell": false,
   "toc_position": {
    "height": "calc(100% - 180px)",
    "left": "10px",
    "top": "150px",
    "width": "209.65px"
   },
   "toc_section_display": true,
   "toc_window_display": true
  }
 },
 "nbformat": 4,
 "nbformat_minor": 4
}
